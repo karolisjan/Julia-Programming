{
 "cells": [
  {
   "cell_type": "markdown",
   "metadata": {},
   "source": [
    "# Linear Programming \n",
    "\n",
    "$\\text{min }c^Tx$\n",
    "\n",
    "$\\text{s.t.:}$\n",
    "\n",
    "$Ax = b$\n",
    "\n",
    "$x\\geq0$\n",
    "\n",
    "$\\text{where:}$\n",
    "\n",
    "$\\mathbf{c} = \\begin{bmatrix} -3 \\\\ -2 \\\\ -1 \\\\ -5 \\\\ 0 \\\\ 0 \\\\ 0 \\end{bmatrix}$\n",
    "\n",
    "$\\mathbf{A} = \n",
    "\\begin{bmatrix}\n",
    "    7 & 3 & 4 & 1 & 1 & 0 & 0 \\\\\n",
    "    2 & 1 & 1 & 5 & 0 & 1 & 0 \\\\\n",
    "    1 & 4 & 5 & 2 & 0 & 0 & 1 \\\\\n",
    "\\end{bmatrix}\n",
    "$\n",
    "\n",
    "$\\mathbf{b} = \\begin{bmatrix} 7 \\\\ 3 \\\\ 8 \\end{bmatrix}$"
   ]
  },
  {
   "cell_type": "code",
   "execution_count": 1,
   "metadata": {},
   "outputs": [
    {
     "data": {
      "text/plain": [
       "3-element Array{Int64,1}:\n",
       " 7\n",
       " 3\n",
       " 8"
      ]
     },
     "execution_count": 1,
     "metadata": {},
     "output_type": "execute_result"
    }
   ],
   "source": [
    "c = [-3; -2; -1; -5; 0; 0; 0] \n",
    "\n",
    "A = [7 3 4 1 1 0 0; \n",
    "     2 1 1 5 0 1 0; \n",
    "     1 4 5 2 0 0 1 ] \n",
    "\n",
    "b = [7; 3; 8]"
   ]
  },
  {
   "cell_type": "markdown",
   "metadata": {},
   "source": [
    "## Searching all Basic Feasible Solutions (BFS)\n",
    "\n",
    "Brute force solution"
   ]
  },
  {
   "cell_type": "code",
   "execution_count": 2,
   "metadata": {},
   "outputs": [
    {
     "data": {
      "text/plain": [
       "searchBFS (generic function with 1 method)"
      ]
     },
     "execution_count": 2,
     "metadata": {},
     "output_type": "execute_result"
    }
   ],
   "source": [
    "using Combinatorics \n",
    "\n",
    "# Checks if the current basis implies a feasible solution\n",
    "function is_non_negative(x::Array{Float64, 1}) \n",
    "    return length(x[x .< 0]) == 0\n",
    "end\n",
    "\n",
    "function searchBFS(c, A, b)\n",
    "    m, n = size(A)\n",
    "    @assert rank(A) == m\n",
    "    \n",
    "    obj = Inf # Stores objective\n",
    "    opt_x = zeros(n) # Stores solution\n",
    "    \n",
    "    # Each combination represents the indices of columns in A \n",
    "    # which corresponds to the indices of basic variables.\n",
    "    # For each b_idx:\n",
    "    #     construct the basis matrix B\n",
    "    #     the cost vector for basic variables c_B\n",
    "    #     the current value of basic variables x_B = inv(B) * b\n",
    "    for b_idx in combinations(1:n, m)\n",
    "        B = A[:, b_idx]\n",
    "        c_B = c[b_idx]\n",
    "        x_B = inv(B) * b\n",
    "        \n",
    "        # If x_B is non-negative, i.e. feasible, then its objective function value\n",
    "        # is compared with the smallest objective function value stored in obj\n",
    "        if is_non_negative(x_B)\n",
    "            z = dot(c_B, x_B)\n",
    "            if z < obj \n",
    "                obj = z\n",
    "                opt_x = zeros(n)\n",
    "                opt_x[b_idx] = x_B\n",
    "            end\n",
    "        end\n",
    "            \n",
    "        println(\"Basis:\", b_idx)\n",
    "        println(\"\\t x_B = \", x_B)\n",
    "        println(\"\\t non-negative? \", is_non_negative(x_B))\n",
    "        \n",
    "        if is_non_negative(x_B)\n",
    "            println(\"\\t obj = \", dot(c_B, x_B))\n",
    "        end\n",
    "    end\n",
    "    \n",
    "    return opt_x, obj\n",
    "end"
   ]
  },
  {
   "cell_type": "code",
   "execution_count": 3,
   "metadata": {
    "scrolled": false
   },
   "outputs": [
    {
     "name": "stdout",
     "output_type": "stream",
     "text": [
      "Basis:[1, 2, 3]\n",
      "\t x_B = [0.25, 4.75, -2.25]\n",
      "\t non-negative? false\n",
      "Basis:[1, 2, 4]\n",
      "\t x_B = [0.172414, 1.87931, 0.155172]\n",
      "\t non-negative? true\n",
      "\t obj = -5.051724137931034\n",
      "Basis:[1, 2, 5]\n",
      "\t x_B = [0.571429, 1.85714, -2.57143]\n",
      "\t non-negative? false\n",
      "Basis:[1, 2, 6]\n",
      "\t x_B = [0.16, 1.96, 0.72]\n",
      "\t non-negative? true\n",
      "\t obj = -4.3999999999999995\n",
      "Basis:[1, 2, 7]\n",
      "\t x_B = [-2.0, 7.0, -18.0]\n",
      "\t non-negative? false\n",
      "Basis:[1, 3, 4]\n",
      "\t x_B = [0.121622, 1.47297, 0.256757]\n",
      "\t non-negative? true\n",
      "\t obj = -3.121621621621621\n",
      "Basis:[1, 3, 5]\n",
      "\t x_B = [0.777778, 1.44444, -4.22222]\n",
      "\t non-negative? false\n",
      "Basis:[1, 3, 6]\n",
      "\t x_B = [0.0967742, 1.58065, 1.22581]\n",
      "\t non-negative? true\n",
      "\t obj = -1.8709677419354835\n",
      "Basis:[1, 3, 7]\n",
      "\t x_B = [5.0, -7.0, 38.0]\n",
      "\t non-negative? false\n",
      "Basis:[1, 4, 5]\n",
      "\t x_B = [34.0, -13.0, -218.0]\n",
      "\t non-negative? false\n",
      "Basis:[1, 4, 6]\n",
      "\t x_B = [0.461538, 3.76923, -16.7692]\n",
      "\t non-negative? false\n",
      "Basis:[1, 4, 7]\n",
      "\t x_B = [0.969697, 0.212121, 6.60606]\n",
      "\t non-negative? true\n",
      "\t obj = -3.9696969696969693\n",
      "Basis:[1, 5, 6]\n",
      "\t x_B = [8.0, -49.0, -13.0]\n",
      "\t non-negative? false\n",
      "Basis:[1, 5, 7]\n",
      "\t x_B = [1.5, -3.5, 6.5]\n",
      "\t non-negative? false\n",
      "Basis:[1, 6, 7]\n",
      "\t x_B = [1.0, 1.0, 7.0]\n",
      "\t non-negative? true\n",
      "\t obj = -3.0\n",
      "Basis:[2, 3, 4]\n",
      "\t x_B = [-4.5, 5.0, 0.5]\n",
      "\t non-negative? false\n",
      "Basis:[2, 3, 5]\n",
      "\t x_B = [7.0, -4.0, 2.0]\n",
      "\t non-negative? false\n",
      "Basis:[2, 3, 6]\n",
      "\t x_B = [-3.0, 4.0, 2.0]\n",
      "\t non-negative? false\n",
      "Basis:[2, 3, 7]\n",
      "\t x_B = [5.0, -2.0, -2.0]\n",
      "\t non-negative? false\n",
      "Basis:[2, 4, 5]\n",
      "\t x_B = [1.88889, 0.222222, 1.11111]\n",
      "\t non-negative? true\n",
      "\t obj = -4.888888888888889\n",
      "Basis:[2, 4, 6]\n",
      "\t x_B = [3.0, -2.0, 10.0]\n",
      "\t non-negative? false\n",
      "Basis:[2, 4, 7]\n",
      "\t x_B = [2.28571, 0.142857, -1.42857]\n",
      "\t non-negative? false\n",
      "Basis:[2, 5, 6]\n",
      "\t x_B = [2.0, 1.0, 1.0]\n",
      "\t non-negative? true\n",
      "\t obj = -4.0\n",
      "Basis:[2, 5, 7]\n",
      "\t x_B = [3.0, -2.0, -4.0]\n",
      "\t non-negative? false\n",
      "Basis:[2, 6, 7]\n",
      "\t x_B = [2.33333, 0.666667, -1.33333]\n",
      "\t non-negative? false\n",
      "Basis:[3, 4, 5]\n",
      "\t x_B = [1.47826, 0.304348, 0.782609]\n",
      "\t non-negative? true\n",
      "\t obj = -3.0\n",
      "Basis:[3, 4, 6]\n",
      "\t x_B = [2.0, -1.0, 6.0]\n",
      "\t non-negative? false\n",
      "Basis:[3, 4, 7]\n",
      "\t x_B = [1.68421, 0.263158, -0.947368]\n",
      "\t non-negative? false\n",
      "Basis:[3, 5, 6]\n",
      "\t x_B = [1.6, 0.6, 1.4]\n",
      "\t non-negative? true\n",
      "\t obj = -1.6\n",
      "Basis:[3, 5, 7]\n",
      "\t x_B = [3.0, -5.0, -7.0]\n",
      "\t non-negative? false\n",
      "Basis:[3, 6, 7]\n",
      "\t x_B = [1.75, 1.25, -0.75]\n",
      "\t non-negative? false\n",
      "Basis:[4, 5, 6]\n",
      "\t x_B = [4.0, 3.0, -17.0]\n",
      "\t non-negative? false\n",
      "Basis:[4, 5, 7]\n",
      "\t x_B = [0.6, 6.4, 6.8]\n",
      "\t non-negative? true\n",
      "\t obj = -3.0000000000000004\n",
      "Basis:[4, 6, 7]\n",
      "\t x_B = [7.0, -32.0, -6.0]\n",
      "\t non-negative? false\n",
      "Basis:[5, 6, 7]\n",
      "\t x_B = [7.0, 3.0, 8.0]\n",
      "\t non-negative? true\n",
      "\t obj = 0.0\n"
     ]
    },
    {
     "data": {
      "text/plain": [
       "([0.172414, 1.87931, 0.0, 0.155172, 0.0, 0.0, 0.0], -5.051724137931034)"
      ]
     },
     "execution_count": 3,
     "metadata": {},
     "output_type": "execute_result"
    }
   ],
   "source": [
    "opt_x, obj = searchBFS(c, A, b)"
   ]
  },
  {
   "cell_type": "markdown",
   "metadata": {},
   "source": [
    "## Using MathProgBase"
   ]
  },
  {
   "cell_type": "code",
   "execution_count": 8,
   "metadata": {},
   "outputs": [
    {
     "name": "stdout",
     "output_type": "stream",
     "text": [
      "Symbol[:status, :objval, :sol, :attrs]\n",
      "[0.172414, 1.87931, 0.0, 0.155172, 0.0, 0.0, 0.0]\n",
      "Optimal\n",
      "-5.051724137931035\n"
     ]
    }
   ],
   "source": [
    "using MathProgBase, Clp\n",
    "\n",
    "solution = linprog(c, A, '=', b, ClpSolver())\n",
    "\n",
    "println(fieldnames(solution))\n",
    "println(solution.sol)\n",
    "println(solution.status)\n",
    "println(solution.objval)"
   ]
  },
  {
   "cell_type": "markdown",
   "metadata": {
    "collapsed": true
   },
   "source": [
    "## Simplex Method\n",
    "Custom Simplex Method module"
   ]
  },
  {
   "cell_type": "code",
   "execution_count": 5,
   "metadata": {},
   "outputs": [
    {
     "data": {
      "text/plain": [
       "([0.172414, 1.87931, 0.0, 0.155172, 0.0, 0.0, 0.0], -5.051724137931035)"
      ]
     },
     "execution_count": 5,
     "metadata": {},
     "output_type": "execute_result"
    }
   ],
   "source": [
    "include(\"simplex_method.jl\")\n",
    "\n",
    "using SimplexMethod\n",
    "\n",
    "# Returns optimal x and objective function values\n",
    "simplex_method(c, A, b)"
   ]
  },
  {
   "cell_type": "code",
   "execution_count": null,
   "metadata": {
    "collapsed": true
   },
   "outputs": [],
   "source": []
  }
 ],
 "metadata": {
  "kernelspec": {
   "display_name": "Julia 0.6.0",
   "language": "julia",
   "name": "julia-0.6"
  },
  "language_info": {
   "file_extension": ".jl",
   "mimetype": "application/julia",
   "name": "julia",
   "version": "0.6.0"
  }
 },
 "nbformat": 4,
 "nbformat_minor": 2
}
