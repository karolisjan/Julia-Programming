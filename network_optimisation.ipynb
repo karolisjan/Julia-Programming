{
 "cells": [
  {
   "cell_type": "markdown",
   "metadata": {},
   "source": [
    "## The Minimal-Cost Network-Flow Problem\n",
    "\n",
    "The minimal-cost network-flow problem deals with a single commodity that needs to be distributed over a network $G = (N, A)$ where $N$ is a set of nodes and $A$ is a set of links.\n",
    "\n",
    "$$\\text{min} \\sum_{(i, j)\\in{A}} c_{ij} x_{ij}$$\n",
    "\n",
    "$\\text{subject to}$\n",
    "\n",
    "$$\\sum_{(i, j)\\in{A}} x_{ij} - \\sum_{(j, i)\\in{A}} x_{ji} = b_i \\quad \\forall{i} \\in{N}$$\n",
    "\n",
    "$$0 \\le x_{ij} \\le u_{ij} \\quad \\forall{(i, j)} \\in{A} $$\n",
    "\n",
    "There are three types of nodes: source, sink, and intermediate nodes. The single commodity is supplied from the source nodes and needs to be delivered to the sink nodes.\n",
    "\n",
    "For source nodes, $b_i \\gt 0$ denotes the amount of supply. For sink nodes, $b_i \\lt 0$ denotes demand, For intermediate nodes, $b_i = 0$. It is assumed that $\\sum_{i\\in{N}} b_i = 0$."
   ]
  },
  {
   "cell_type": "code",
   "execution_count": 1,
   "metadata": {},
   "outputs": [],
   "source": [
    "network_data = readcsv(\"simple_network.csv\", header=true)\n",
    "\n",
    "data = network_data[1]\n",
    "header = network_data[2]\n",
    "\n",
    "start_nodes = round.(Int64, data[:, 1])\n",
    "end_nodes = round.(Int64, data[:, 2])\n",
    "c = data[:, 3]\n",
    "u = data[:, 4]\n",
    "\n",
    "network_data_b = readcsv(\"simple_network_b.csv\", header=true)\n",
    "b = network_data_b[1][:, 2]\n",
    "\n",
    "num_nodes = max(maximum(start_nodes), maximum(end_nodes))\n",
    "num_links = length(start_nodes)\n",
    "\n",
    "nodes = 1:num_nodes\n",
    "links = Array{Tuple{Int, Int}}(num_links)\n",
    "for i = 1:num_links\n",
    "    links[i] = (start_nodes[i], end_nodes[i]) \n",
    "end\n",
    "\n",
    "c_dict = Dict()\n",
    "u_dict = Dict()\n",
    "for i = 1:num_links\n",
    "    c_dict[links[i]] = c[i]\n",
    "    u_dict[links[i]] = u[i]\n",
    "end"
   ]
  },
  {
   "cell_type": "code",
   "execution_count": 2,
   "metadata": {},
   "outputs": [
    {
     "name": "stdout",
     "output_type": "stream",
     "text": [
      "Objective: 45.00 (Optimal)"
     ]
    },
    {
     "data": {
      "text/latex": [
       "$$ \\begin{alignat*}{1}\\min\\quad & 2 x_{(1, 2)} + 5 x_{(1, 3)} + 3 x_{(2, 3)} + x_{(3, 4)} + 2 x_{(3, 5)} + 2 x_{(4, 5)} + 4 x_{(5, 2)}\\\\\n",
       "\\text{Subject to} \\quad & x_{(1, 2)} + x_{(1, 3)} - x_{(4, 1)} = -5\\\\\n",
       " & x_{(2, 3)} - x_{(1, 2)} - x_{(5, 2)} = 10\\\\\n",
       " & x_{(3, 4)} + x_{(3, 5)} - x_{(1, 3)} - x_{(2, 3)} = 0\\\\\n",
       " & x_{(4, 1)} + x_{(4, 5)} - x_{(3, 4)} = -2\\\\\n",
       " & x_{(5, 2)} - x_{(3, 5)} - x_{(4, 5)} = -3\\\\\n",
       " & x_{(1, 2)} \\geq 0\\\\\n",
       " & x_{(1, 3)} \\geq 0\\\\\n",
       " & x_{(2, 3)} \\geq 0\\\\\n",
       " & x_{(3, 4)} \\geq 0\\\\\n",
       " & 0 \\leq x_{(3, 5)} \\leq 1\\\\\n",
       " & x_{(4, 1)} \\geq 0\\\\\n",
       " & x_{(4, 5)} \\geq 0\\\\\n",
       " & x_{(5, 2)} \\geq 0\\\\\n",
       "\\end{alignat*}\n",
       " $$"
      ],
      "text/plain": [
       "Minimization problem with:\n",
       " * 5 linear constraints\n",
       " * 8 variables\n",
       "Solver is ClpMathProg"
      ]
     },
     "execution_count": 2,
     "metadata": {},
     "output_type": "execute_result"
    }
   ],
   "source": [
    "include(\"min_cost_network_flow.jl\")\n",
    "\n",
    "using MCNF\n",
    "\n",
    "x_star, obj, status, model = min_cost_network_flow(nodes, links, c_dict, u_dict, b)\n",
    "\n",
    "@printf \"Objective: %.2f (%s)\" obj status\n",
    "\n",
    "model"
   ]
  },
  {
   "cell_type": "code",
   "execution_count": 3,
   "metadata": {},
   "outputs": [
    {
     "data": {
      "text/plain": [
       "x: 1 dimensions:\n",
       "[(1, 2)] = 0.0\n",
       "[(1, 3)] = 0.0\n",
       "[(2, 3)] = 10.0\n",
       "[(3, 4)] = 9.0\n",
       "[(3, 5)] = 1.0\n",
       "[(4, 1)] = 5.0\n",
       "[(4, 5)] = 2.0\n",
       "[(5, 2)] = 0.0"
      ]
     },
     "execution_count": 3,
     "metadata": {},
     "output_type": "execute_result"
    }
   ],
   "source": [
    "x_star"
   ]
  },
  {
   "cell_type": "code",
   "execution_count": null,
   "metadata": {
    "collapsed": true
   },
   "outputs": [],
   "source": []
  }
 ],
 "metadata": {
  "kernelspec": {
   "display_name": "Julia 0.6.0",
   "language": "julia",
   "name": "julia-0.6"
  },
  "language_info": {
   "file_extension": ".jl",
   "mimetype": "application/julia",
   "name": "julia",
   "version": "0.6.0"
  }
 },
 "nbformat": 4,
 "nbformat_minor": 2
}
