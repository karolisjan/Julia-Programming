{
 "cells": [
  {
   "cell_type": "markdown",
   "metadata": {},
   "source": [
    "## The Minimal-Cost Network-Flow Problem\n",
    "\n",
    "The minimal-cost network-flow problem deals with a single commodity that needs to be distributed over a network $G = (N, A)$ where $N$ is a set of nodes and $A$ is a set of links.\n",
    "\n",
    "$$\\text{min} \\sum_{(i, j)\\in{A}} c_{ij} x_{ij}$$\n",
    "\n",
    "$\\text{subject to}$\n",
    "\n",
    "$$\\sum_{(i, j)\\in{A}} x_{ij} - \\sum_{(j, i)\\in{A}} x_{ji} = b_i \\quad \\forall{i} \\in{N}$$\n",
    "\n",
    "$$0 \\le x_{ij} \\le u_{ij} \\quad \\forall{(i, j)} \\in{A} $$\n",
    "\n",
    "There are three types of nodes: source, sink, and intermediate nodes. The single commodity is supplied from the source nodes and needs to be delivered to the sink nodes.\n",
    "\n",
    "For source nodes, $b_i \\gt 0$ denotes the amount of supply. For sink nodes, $b_i \\lt 0$ denotes demand, For intermediate nodes, $b_i = 0$. It is assumed that $\\sum_{i\\in{N}} b_i = 0$."
   ]
  },
  {
   "cell_type": "code",
   "execution_count": 11,
   "metadata": {},
   "outputs": [],
   "source": [
    "network_data = readcsv(\"simple_network.csv\", header=true)\n",
    "\n",
    "data = network_data[1]\n",
    "header = network_data[2]\n",
    "\n",
    "start_nodes = round.(Int64, data[:, 1])\n",
    "end_nodes = round.(Int64, data[:, 2])\n",
    "c = data[:, 3]\n",
    "u = data[:, 4]\n",
    "\n",
    "network_data_b = readcsv(\"simple_network_b.csv\", header=true)\n",
    "b = network_data_b[1][:, 2]\n",
    "\n",
    "num_nodes = max(maximum(start_nodes), maximum(end_nodes))\n",
    "num_links = length(start_nodes)\n",
    "\n",
    "nodes = 1:num_nodes\n",
    "links = Array{Tuple{Int, Int}}(num_links)\n",
    "for i = 1:num_links\n",
    "    links[i] = (start_nodes[i], end_nodes[i]) \n",
    "end\n",
    "\n",
    "c_dict = Dict()\n",
    "u_dict = Dict()\n",
    "for i = 1:num_links\n",
    "    c_dict[links[i]] = c[i]\n",
    "    u_dict[links[i]] = u[i]\n",
    "end"
   ]
  },
  {
   "cell_type": "code",
   "execution_count": 31,
   "metadata": {},
   "outputs": [
    {
     "name": "stderr",
     "output_type": "stream",
     "text": [
      "WARNING: replacing module MCNF\n",
      "WARNING: using MCNF.min_cost_network_flow in module Main conflicts with an existing identifier.\n"
     ]
    },
    {
     "ename": "LoadError",
     "evalue": "\u001b[91mArgumentError: @printf: first or second argument must be a format string\u001b[39m",
     "output_type": "error",
     "traceback": [
      "\u001b[91mArgumentError: @printf: first or second argument must be a format string\u001b[39m",
      "",
      "Stacktrace:",
      " [1] \u001b[1minclude_string\u001b[22m\u001b[22m\u001b[1m(\u001b[22m\u001b[22m::String, ::String\u001b[1m)\u001b[22m\u001b[22m at \u001b[1m.\\loading.jl:515\u001b[22m\u001b[22m"
     ]
    }
   ],
   "source": [
    "include(\"min_cost_network_flow.jl\")\n",
    "\n",
    "using MCNF\n",
    "\n",
    "x_star, obj, status, model = min_cost_network_flow(nodes, links, c_dict, u_dict, b)\n",
    "\n",
    "@printf \"%f\" 1\n",
    "#@printf \"Objective: %.2f (%s)\" % obj status\n",
    "\n",
    "model"
   ]
  },
  {
   "cell_type": "code",
   "execution_count": 24,
   "metadata": {},
   "outputs": [
    {
     "data": {
      "text/plain": [
       "x: 1 dimensions:\n",
       "[(1, 2)] = 0.0\n",
       "[(1, 3)] = 0.0\n",
       "[(2, 3)] = 10.0\n",
       "[(3, 4)] = 9.0\n",
       "[(3, 5)] = 1.0\n",
       "[(4, 1)] = 5.0\n",
       "[(4, 5)] = 2.0\n",
       "[(5, 2)] = 0.0"
      ]
     },
     "execution_count": 24,
     "metadata": {},
     "output_type": "execute_result"
    }
   ],
   "source": [
    "x_star"
   ]
  },
  {
   "cell_type": "code",
   "execution_count": null,
   "metadata": {
    "collapsed": true
   },
   "outputs": [],
   "source": []
  }
 ],
 "metadata": {
  "kernelspec": {
   "display_name": "Julia 0.6.0",
   "language": "julia",
   "name": "julia-0.6"
  },
  "language_info": {
   "file_extension": ".jl",
   "mimetype": "application/julia",
   "name": "julia",
   "version": "0.6.0"
  }
 },
 "nbformat": 4,
 "nbformat_minor": 2
}
