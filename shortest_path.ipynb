{
 "cells": [
  {
   "cell_type": "markdown",
   "metadata": {},
   "source": [
    "## The Shortest Path Problem\n",
    "\n",
    "Another special case of minimal-cost network-flow problem.\n",
    "\n",
    "$$\\text{min} \\sum_{(i, j)\\in{A}} c_{ij} x_{ij}$$\n",
    "\n",
    "$\\text{subject to}$\n",
    "\n",
    "\\begin{equation}\n",
    "  \\sum_{(i, j)\\in{A}} x_{ij} - \\sum_{(j, i)\\in{A}} x_{ji}=\\left\\{\n",
    "  \\begin{array}{@{}ll@{}}\n",
    "    1, & \\text{if}\\ i \\text{ is the origin node} \\\\\n",
    "    -1, & \\text{if}\\ i \\text{ is the destination node} \\\\\n",
    "    0, & \\text{otherwise}\n",
    "  \\end{array}\\right.\n",
    "  \\quad \\forall{i} \\in{N}\n",
    "\\end{equation}\n",
    "\n",
    "$$x_{ij} \\in \\{0, 1\\} \\quad \\forall{(i, j)} \\in{A}$$\n",
    "\n",
    "Can be solved using LP but Dijkstra's algorithm is more efficient."
   ]
  },
  {
   "cell_type": "code",
   "execution_count": 1,
   "metadata": {},
   "outputs": [
    {
     "data": {
      "text/plain": [
       "8"
      ]
     },
     "execution_count": 1,
     "metadata": {},
     "output_type": "execute_result"
    }
   ],
   "source": [
    "network_data = readcsv(\"simple_network.csv\", header=true)\n",
    "data = network_data[1]\n",
    "header = network_data[2]\n",
    "\n",
    "start_nodes = round.(Int64, data[:, 1])\n",
    "end_nodes = round.(Int64, data[:, 2])\n",
    "c = data[:, 3] # cost\n",
    "\n",
    "origin = 1 # origin node\n",
    "destination = 5 # destination node\n",
    "\n",
    "num_nodes = max(maximum(start_nodes), maximum(end_nodes))\n",
    "num_links = length(start_nodes)"
   ]
  },
  {
   "cell_type": "markdown",
   "metadata": {},
   "source": [
    "## Dijkstra's Algorithm\n",
    "\n",
    "Dijkstra's Algorithm implementation.\n",
    "\n",
    "Dijkstra's algorithm is a one-to-all algorithm, i.e. finds shortest paths from a single origin to all nodes.\n",
    "\n",
    "- **Step 0.** Initialize $w_1 = 0$ and $X = \\{\\}$ \n",
    "- **Step 1.** When $\\bar{X} = N \\setminus X$, find the set $(X, \\bar{X}) = \\{(i, j) : i \\in{X}, j \\in{\\bar{X}}\\}$\n",
    "- **Step 2.** Find a link $(p, q)$ such that\n",
    "\n",
    "$$w_p + c_{pq} = min \\Big\\{w_i + c_{ij} : (i, j) \\in{(X, \\bar{X})} \\text{ and } (i, j) \\in{A}\\Big\\}$$\n",
    "\n",
    "- **Step 3.** Set $w_q = w_p + c_{pq}$ and add the node $q$ to the set $X$\n",
    "- **Step 4.** If the new $\\bar{X} = N \\setminus X$ is an empty set, stop. Otherwise, got to **Step 1** and repeat\n",
    "\n",
    "$\\text{where}$\n",
    "\n",
    "$w_i$ - distance to the node $i$\n",
    "<br>\n",
    "$X$ - set of visited nodes\n",
    "<br>\n",
    "$\\bar{X}$ - set of unvisited nodes\n",
    "<br>\n",
    "$N$ - set of all nodes\n",
    "<br>\n",
    "$A$ - set of all links (edges)"
   ]
  },
  {
   "cell_type": "code",
   "execution_count": 2,
   "metadata": {},
   "outputs": [],
   "source": [
    "include(\"dijkstra.jl\")\n",
    "\n",
    "using DijkstrasAlgorithm"
   ]
  },
  {
   "cell_type": "code",
   "execution_count": 3,
   "metadata": {},
   "outputs": [
    {
     "name": "stdout",
     "output_type": "stream",
     "text": [
      "The distance from node 1 to node 5 is: 7.0\n"
     ]
    }
   ],
   "source": [
    "w = dijkstras_algorithm(1, start_nodes, end_nodes, c)\n",
    "\n",
    "println(\"The distance from node $origin to node $destination is: \", w[destination])"
   ]
  },
  {
   "cell_type": "markdown",
   "metadata": {},
   "source": [
    "## Using LightGraphs package"
   ]
  },
  {
   "cell_type": "code",
   "execution_count": 4,
   "metadata": {},
   "outputs": [
    {
     "name": "stdout",
     "output_type": "stream",
     "text": [
      "The shortest path is: [1, 3, 5]\n",
      "x vector: [0, 1, 0, 0, 1, 0, 0, 0]\n",
      "Cost is 7.0\n",
      "Cost is 7.0\n",
      "Cost is 7.0\n"
     ]
    }
   ],
   "source": [
    "using LightGraphs\n",
    "\n",
    "# Extracts binary x vector\n",
    "function get_shortest_x(path, start_nodes, end_nodes, origin, destination)\n",
    "    x = zeros(Int, length(start_nodes))\n",
    "    \n",
    "    for i = 1:length(path)-1\n",
    "        start = path[i]\n",
    "        end_ = path[i+1]\n",
    "        \n",
    "        for j = 1:length(start_nodes)\n",
    "            if start_nodes[j] == start && end_nodes[j] == end_\n",
    "                x[j] = 1\n",
    "                break\n",
    "            end\n",
    "        end\n",
    "    end\n",
    "    \n",
    "    return x\n",
    "end\n",
    "\n",
    "\n",
    "graph = Graph(num_nodes)\n",
    "distance_matrix = Inf * ones(num_nodes, num_nodes)\n",
    "\n",
    "for i = 1:num_links\n",
    "    add_edge!(graph, start_nodes[i], end_nodes[i])\n",
    "    distance_matrix[start_nodes[i], end_nodes[i]] = c[i]\n",
    "end\n",
    "\n",
    "state = dijkstra_shortest_paths(graph, origin, distance_matrix)\n",
    "\n",
    "# Returns indices of the nodes in the shortest path\n",
    "path = enumerate_paths(state, destination)\n",
    "println(\"The shortest path is: \", path)\n",
    "\n",
    "x = get_shortest_x(path, start_nodes, end_nodes, origin, destination)\n",
    "println(\"x vector: \", x)\n",
    "\n",
    "println(\"Cost is $(state.dists[destination])\")\n",
    "println(\"Cost is $(dot(c, x))\")\n",
    "println(\"Cost is $(c' * x)\")"
   ]
  },
  {
   "cell_type": "code",
   "execution_count": null,
   "metadata": {
    "collapsed": true
   },
   "outputs": [],
   "source": []
  }
 ],
 "metadata": {
  "kernelspec": {
   "display_name": "Julia 0.6.0",
   "language": "julia",
   "name": "julia-0.6"
  },
  "language_info": {
   "file_extension": ".jl",
   "mimetype": "application/julia",
   "name": "julia",
   "version": "0.6.0"
  }
 },
 "nbformat": 4,
 "nbformat_minor": 2
}
