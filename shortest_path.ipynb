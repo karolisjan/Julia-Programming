{
 "cells": [
  {
   "cell_type": "markdown",
   "metadata": {},
   "source": [
    "## The Shortest Path Problem\n",
    "\n",
    "Another special case of minimal-cost network-flow problem.\n",
    "\n",
    "$$\\text{min} \\sum_{(i, j)\\in{A}} c_{ij} x_{ij}$$\n",
    "\n",
    "$\\text{subject to}$\n",
    "\n",
    "\\begin{equation}\n",
    "  \\sum_{(i, j)\\in{A}} x_{ij} - \\sum_{(j, i)\\in{A}} x_{ji}=\\left\\{\n",
    "  \\begin{array}{@{}ll@{}}\n",
    "    1, & \\text{if}\\ i \\text{ is the origin node} \\\\\n",
    "    -1, & \\text{if}\\ i \\text{ is the destination node} \\\\\n",
    "    0, & \\text{otherwise}\n",
    "  \\end{array}\\right.\n",
    "  \\quad \\forall{i} \\in{N}\n",
    "\\end{equation}\n",
    "\n",
    "$$x_{ij} \\in \\{0, 1\\} \\quad \\forall{(i, j)} \\in{A}$$\n",
    "\n",
    "Can be solved using LP but Dijkstra's algorithm is more efficient."
   ]
  },
  {
   "cell_type": "code",
   "execution_count": 2,
   "metadata": {},
   "outputs": [
    {
     "data": {
      "text/plain": [
       "8"
      ]
     },
     "execution_count": 2,
     "metadata": {},
     "output_type": "execute_result"
    }
   ],
   "source": [
    "network_data = readcsv(\"simple_network.csv\", header=true)\n",
    "data = network_data[1]\n",
    "header = network_data[2]\n",
    "\n",
    "start_nodes = round.(Int64, data[:, 1])\n",
    "end_nodes = round.(Int64, data[:, 2])\n",
    "c = data[:, 3] # cost\n",
    "\n",
    "origin = 1 # origin node\n",
    "destination = 5 # destination node\n",
    "\n",
    "num_nodes = max(maximum(start_nodes), maximum(end_nodes))\n",
    "num_links = length(start_nodes)"
   ]
  },
  {
   "cell_type": "code",
   "execution_count": 3,
   "metadata": {},
   "outputs": [],
   "source": [
    "using LightGraphs\n",
    "\n",
    "graph = Graph(num_nodes)\n",
    "distance_matrix = Inf * ones(num_nodes, num_nodes)\n",
    "\n",
    "for i = 1:num_links\n",
    "    add_edge!(graph, start_nodes[i], end_nodes[i])\n",
    "    distance_matrix[start_nodes[i], end_nodes[i]] = c[i]\n",
    "end"
   ]
  },
  {
   "cell_type": "code",
   "execution_count": 4,
   "metadata": {},
   "outputs": [
    {
     "data": {
      "text/plain": [
       "LightGraphs.DijkstraState{Float64,Int64}([0, 1, 1, 3, 3], [0.0, 2.0, 5.0, 6.0, 7.0], Array{Int64,1}[Int64[], Int64[], Int64[], Int64[], Int64[]], [1, 1, 2, 2, 2], Int64[])"
      ]
     },
     "execution_count": 4,
     "metadata": {},
     "output_type": "execute_result"
    }
   ],
   "source": [
    "# Dijkstra's algorithm is a one-to-all algorithm,\n",
    "# i.e. finds shortest paths from a single origin to all nodes\n",
    "state = dijkstra_shortest_paths(graph, origin, distance_matrix)"
   ]
  },
  {
   "cell_type": "code",
   "execution_count": 5,
   "metadata": {},
   "outputs": [
    {
     "name": "stdout",
     "output_type": "stream",
     "text": [
      "The shortest path is: [1, 3, 5]\n",
      "x vector: [0, 1, 0, 0, 1, 0, 0, 0]\n",
      "Cost is 7.0\n",
      "Cost is 7.0\n",
      "Cost is 7.0\n"
     ]
    }
   ],
   "source": [
    "# Extracts binary x vector\n",
    "function get_shortest_x(path, start_nodes, end_nodes, origin, destination)\n",
    "    x = zeros(Int, length(start_nodes))\n",
    "    \n",
    "    for i = 1:length(path)-1\n",
    "        start = path[i]\n",
    "        end_ = path[i+1]\n",
    "        \n",
    "        for j = 1:length(start_nodes)\n",
    "            if start_nodes[j] == start && end_nodes[j] == end_\n",
    "                x[j] = 1\n",
    "                break\n",
    "            end\n",
    "        end\n",
    "    end\n",
    "    \n",
    "    return x\n",
    "end\n",
    "\n",
    "# Returns indices of the nodes in the shortest path\n",
    "path = enumerate_paths(state, destination)\n",
    "println(\"The shortest path is: \", path)\n",
    "\n",
    "x = get_shortest_x(path, start_nodes, end_nodes, origin, destination)\n",
    "println(\"x vector: \", x)\n",
    "\n",
    "println(\"Cost is $(state.dists[destination])\")\n",
    "println(\"Cost is $(dot(c, x))\")\n",
    "println(\"Cost is $(c' * x)\")"
   ]
  },
  {
   "cell_type": "code",
   "execution_count": 6,
   "metadata": {},
   "outputs": [
    {
     "data": {
      "text/plain": [
       "8×3 Array{Int64,2}:\n",
       " 1  2  0\n",
       " 1  3  1\n",
       " 2  3  0\n",
       " 3  4  0\n",
       " 3  5  1\n",
       " 4  1  0\n",
       " 4  5  0\n",
       " 5  2  0"
      ]
     },
     "execution_count": 6,
     "metadata": {},
     "output_type": "execute_result"
    }
   ],
   "source": [
    "[start_nodes end_nodes x]"
   ]
  },
  {
   "cell_type": "code",
   "execution_count": null,
   "metadata": {
    "collapsed": true
   },
   "outputs": [],
   "source": []
  }
 ],
 "metadata": {
  "kernelspec": {
   "display_name": "Julia 0.6.0",
   "language": "julia",
   "name": "julia-0.6"
  },
  "language_info": {
   "file_extension": ".jl",
   "mimetype": "application/julia",
   "name": "julia",
   "version": "0.6.0"
  }
 },
 "nbformat": 4,
 "nbformat_minor": 2
}
