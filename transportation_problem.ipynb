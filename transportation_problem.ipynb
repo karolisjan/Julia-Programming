{
 "cells": [
  {
   "cell_type": "markdown",
   "metadata": {},
   "source": [
    "## The Transportation Problem\n",
    "\n",
    "The transportation problem is a special case of the minimal-cost network-flow problem. There are only source and sink nodes without any intermediate ones.\n",
    "\n",
    "$N_S$ denotes the set of supply nodes and $N_D$ - the set of demand nodes. $N_S \\cap N_D = \\emptyset$ and $N_S \\cup N_D = N$.\n",
    "\n",
    "$$\\text{min} \\sum_{i \\in{N_S}} \\sum_{j \\in{N_D}} c_{ij} x_{ij}$$\n",
    "\n",
    "$\\text{subject to}$\n",
    "\n",
    "$$\\sum_{j \\in{N_D}} x_{ij} = s_i \\quad \\forall{i} \\in{N_S}$$\n",
    "\n",
    "$$\\sum_{i \\in{N_D}} x_{ij} = d_j \\quad \\forall{j} \\in{N_D}$$\n",
    "\n",
    "$$x_{ij} \\ge 0 \\quad \\forall{i} \\in{N_S} ,j \\in{N_D}$$\n",
    "\n",
    "where $c_{ij}$ is the unit transportation cost from supply node $i$ to sink node $j$, and $s_i$ and $d_j$ are *nonnegative* constants for the supply and demand amounts, respectively.\n",
    "\n",
    "It is assumed that $\\sum_{i \\in{N_S}} s_i = \\sum_{j \\in{N_D}} d_j$."
   ]
  },
  {
   "cell_type": "code",
   "execution_count": 1,
   "metadata": {},
   "outputs": [
    {
     "data": {
      "text/plain": [
       "4×5 Array{Any,2}:\n",
       "   \"\"  \"\"         15           12          13      \n",
       "   \"\"  \"\"           \"Chicago\"    \"Denver\"    \"Erie\"\n",
       " 15    \"Austin\"   10            7           9      \n",
       " 25    \"Buffalo\"   4            9           8      "
      ]
     },
     "execution_count": 1,
     "metadata": {},
     "output_type": "execute_result"
    }
   ],
   "source": [
    "data = readcsv(\"transportation_problem.csv\")"
   ]
  },
  {
   "cell_type": "code",
   "execution_count": 10,
   "metadata": {},
   "outputs": [
    {
     "data": {
      "text/plain": [
       "Dict{Any,Any} with 6 entries:\n",
       "  (\"Austin\", \"Chicago\")  => 10\n",
       "  (\"Buffalo\", \"Denver\")  => 9\n",
       "  (\"Austin\", \"Erie\")     => 9\n",
       "  (\"Buffalo\", \"Chicago\") => 4\n",
       "  (\"Austin\", \"Denver\")   => 7\n",
       "  (\"Buffalo\", \"Erie\")    => 8"
      ]
     },
     "execution_count": 10,
     "metadata": {},
     "output_type": "execute_result"
    }
   ],
   "source": [
    "supply_nodes = collect(data[3:end, 2])\n",
    "s = collect(data[3:end, 1])\n",
    "\n",
    "demand_nodes = collect(data[2, 3:end])\n",
    "d = collect(data[1, 3:end])\n",
    "\n",
    "c = data[3:end, 3:end]\n",
    "\n",
    "s_dict = Dict(zip(supply_nodes, s))\n",
    "d_dict = Dict(zip(demand_nodes, d))\n",
    "\n",
    "c_dict = Dict()\n",
    "for i in 1:length(supply_nodes)\n",
    "    for j in 1:length(demand_nodes)\n",
    "        c_dict[supply_nodes[i], demand_nodes[j]] = c[i, j]\n",
    "    end\n",
    "end\n",
    "\n",
    "c_dict"
   ]
  },
  {
   "cell_type": "markdown",
   "metadata": {},
   "source": [
    "## Solution"
   ]
  },
  {
   "cell_type": "code",
   "execution_count": 13,
   "metadata": {},
   "outputs": [
    {
     "data": {
      "text/latex": [
       "$$ \\begin{alignat*}{1}\\min\\quad & 10 x_{Austin,Chicago} + 7 x_{Austin,Denver} + 9 x_{Austin,Erie} + 4 x_{Buffalo,Chicago} + 9 x_{Buffalo,Denver} + 8 x_{Buffalo,Erie}\\\\\n",
       "\\text{Subject to} \\quad & x_{Austin,Chicago} + x_{Austin,Denver} + x_{Austin,Erie} = 15\\\\\n",
       " & x_{Buffalo,Chicago} + x_{Buffalo,Denver} + x_{Buffalo,Erie} = 25\\\\\n",
       " & x_{Austin,Chicago} + x_{Buffalo,Chicago} = 15\\\\\n",
       " & x_{Austin,Denver} + x_{Buffalo,Denver} = 12\\\\\n",
       " & x_{Austin,Erie} + x_{Buffalo,Erie} = 13\\\\\n",
       " & x_{i,j} \\geq 0 \\quad\\forall i \\in \\{Austin,Buffalo\\}, j \\in \\{Chicago,Denver,Erie\\}\\\\\n",
       "\\end{alignat*}\n",
       " $$"
      ],
      "text/plain": [
       "Minimization problem with:\n",
       " * 5 linear constraints\n",
       " * 6 variables\n",
       "Solver is ClpMathProg"
      ]
     },
     "execution_count": 13,
     "metadata": {},
     "output_type": "execute_result"
    }
   ],
   "source": [
    "using JuMP, Clp\n",
    "\n",
    "model = Model(solver=ClpSolver())\n",
    "\n",
    "@variable(model, x[supply_nodes, demand_nodes] >= 0)\n",
    "\n",
    "@objective(model, Min, sum(c_dict[i, j] * x[i, j] for i in supply_nodes for j in demand_nodes))\n",
    "                \n",
    "for i in supply_nodes\n",
    "    @constraint(model, sum(x[i, j] for j in demand_nodes) == s_dict[i])\n",
    "end\n",
    "                \n",
    "for j in demand_nodes\n",
    "    @constraint(model, sum(x[i, j] for i in supply_nodes) == d_dict[j])\n",
    "end\n",
    "                \n",
    "model "
   ]
  },
  {
   "cell_type": "code",
   "execution_count": 18,
   "metadata": {},
   "outputs": [
    {
     "name": "stdout",
     "output_type": "stream",
     "text": [
      "Objective: 251.00 (Optimal)\n",
      "\n",
      "Solution:"
     ]
    },
    {
     "data": {
      "text/plain": [
       "x: 2 dimensions:\n",
       "[ Austin,:]\n",
       "  [ Austin,Chicago] = 0.0\n",
       "  [ Austin, Denver] = 12.0\n",
       "  [ Austin,   Erie] = 3.0\n",
       "[Buffalo,:]\n",
       "  [Buffalo,Chicago] = 15.0\n",
       "  [Buffalo, Denver] = 0.0\n",
       "  [Buffalo,   Erie] = 10.0"
      ]
     },
     "execution_count": 18,
     "metadata": {},
     "output_type": "execute_result"
    }
   ],
   "source": [
    "status = solve(model)\n",
    "\n",
    "@printf \"Objective: %.2f (%s)\" getobjectivevalue(model) status\n",
    "@printf \"\\n\\nSolution:\"\n",
    "\n",
    "getvalue(x)"
   ]
  },
  {
   "cell_type": "code",
   "execution_count": null,
   "metadata": {
    "collapsed": true
   },
   "outputs": [],
   "source": []
  }
 ],
 "metadata": {
  "kernelspec": {
   "display_name": "Julia 0.6.0",
   "language": "julia",
   "name": "julia-0.6"
  },
  "language_info": {
   "file_extension": ".jl",
   "mimetype": "application/julia",
   "name": "julia",
   "version": "0.6.0"
  }
 },
 "nbformat": 4,
 "nbformat_minor": 2
}
